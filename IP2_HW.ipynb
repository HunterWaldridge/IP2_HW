{
 "cells": [
  {
   "cell_type": "code",
   "execution_count": 210,
   "id": "7bb41d30",
   "metadata": {},
   "outputs": [],
   "source": [
    "import pandas as pd\n",
    "import numpy as np"
   ]
  },
  {
   "cell_type": "markdown",
   "id": "540e9504",
   "metadata": {},
   "source": [
    "1. Attached to this assignment in Moodle is a file called weather_2012.csv. Download this file and put it in the same directory as your notebook. Read the file into a dataset named “df”."
   ]
  },
  {
   "cell_type": "code",
   "execution_count": 211,
   "id": "affc9b73",
   "metadata": {},
   "outputs": [],
   "source": [
    "df = pd.read_csv('weather_2012.csv')"
   ]
  },
  {
   "cell_type": "markdown",
   "id": "d332c8b6",
   "metadata": {},
   "source": [
    "2. Write the code to display the first five rows of the dataset, the last five rows of the dataset, and a sample of five random rows from the dataset"
   ]
  },
  {
   "cell_type": "code",
   "execution_count": 212,
   "id": "ee09a71d",
   "metadata": {},
   "outputs": [
    {
     "data": {
      "text/html": [
       "<div>\n",
       "<style scoped>\n",
       "    .dataframe tbody tr th:only-of-type {\n",
       "        vertical-align: middle;\n",
       "    }\n",
       "\n",
       "    .dataframe tbody tr th {\n",
       "        vertical-align: top;\n",
       "    }\n",
       "\n",
       "    .dataframe thead th {\n",
       "        text-align: right;\n",
       "    }\n",
       "</style>\n",
       "<table border=\"1\" class=\"dataframe\">\n",
       "  <thead>\n",
       "    <tr style=\"text-align: right;\">\n",
       "      <th></th>\n",
       "      <th>Date/Time</th>\n",
       "      <th>Temp (C)</th>\n",
       "      <th>Dew Point Temp (C)</th>\n",
       "      <th>Rel Hum (%)</th>\n",
       "      <th>Wind Spd (km/h)</th>\n",
       "      <th>Visibility (km)</th>\n",
       "      <th>Stn Press (kPa)</th>\n",
       "      <th>Weather</th>\n",
       "    </tr>\n",
       "  </thead>\n",
       "  <tbody>\n",
       "    <tr>\n",
       "      <th>0</th>\n",
       "      <td>2012-01-01 00:00:00</td>\n",
       "      <td>-1.8</td>\n",
       "      <td>-3.9</td>\n",
       "      <td>86</td>\n",
       "      <td>4</td>\n",
       "      <td>8.0</td>\n",
       "      <td>101.24</td>\n",
       "      <td>Fog</td>\n",
       "    </tr>\n",
       "    <tr>\n",
       "      <th>1</th>\n",
       "      <td>2012-01-01 01:00:00</td>\n",
       "      <td>-1.8</td>\n",
       "      <td>-3.7</td>\n",
       "      <td>87</td>\n",
       "      <td>4</td>\n",
       "      <td>8.0</td>\n",
       "      <td>101.24</td>\n",
       "      <td>Fog</td>\n",
       "    </tr>\n",
       "    <tr>\n",
       "      <th>2</th>\n",
       "      <td>2012-01-01 02:00:00</td>\n",
       "      <td>-1.8</td>\n",
       "      <td>-3.4</td>\n",
       "      <td>89</td>\n",
       "      <td>7</td>\n",
       "      <td>4.0</td>\n",
       "      <td>101.26</td>\n",
       "      <td>Freezing Drizzle,Fog</td>\n",
       "    </tr>\n",
       "    <tr>\n",
       "      <th>3</th>\n",
       "      <td>2012-01-01 03:00:00</td>\n",
       "      <td>-1.5</td>\n",
       "      <td>-3.2</td>\n",
       "      <td>88</td>\n",
       "      <td>6</td>\n",
       "      <td>4.0</td>\n",
       "      <td>101.27</td>\n",
       "      <td>Freezing Drizzle,Fog</td>\n",
       "    </tr>\n",
       "    <tr>\n",
       "      <th>4</th>\n",
       "      <td>2012-01-01 04:00:00</td>\n",
       "      <td>-1.5</td>\n",
       "      <td>-3.3</td>\n",
       "      <td>88</td>\n",
       "      <td>7</td>\n",
       "      <td>4.8</td>\n",
       "      <td>101.23</td>\n",
       "      <td>Fog</td>\n",
       "    </tr>\n",
       "  </tbody>\n",
       "</table>\n",
       "</div>"
      ],
      "text/plain": [
       "             Date/Time  Temp (C)  Dew Point Temp (C)  Rel Hum (%)  \\\n",
       "0  2012-01-01 00:00:00      -1.8                -3.9           86   \n",
       "1  2012-01-01 01:00:00      -1.8                -3.7           87   \n",
       "2  2012-01-01 02:00:00      -1.8                -3.4           89   \n",
       "3  2012-01-01 03:00:00      -1.5                -3.2           88   \n",
       "4  2012-01-01 04:00:00      -1.5                -3.3           88   \n",
       "\n",
       "   Wind Spd (km/h)  Visibility (km)  Stn Press (kPa)               Weather  \n",
       "0                4              8.0           101.24                   Fog  \n",
       "1                4              8.0           101.24                   Fog  \n",
       "2                7              4.0           101.26  Freezing Drizzle,Fog  \n",
       "3                6              4.0           101.27  Freezing Drizzle,Fog  \n",
       "4                7              4.8           101.23                   Fog  "
      ]
     },
     "execution_count": 212,
     "metadata": {},
     "output_type": "execute_result"
    }
   ],
   "source": [
    "df.head()"
   ]
  },
  {
   "cell_type": "code",
   "execution_count": 213,
   "id": "d4aa70d8",
   "metadata": {},
   "outputs": [
    {
     "data": {
      "text/html": [
       "<div>\n",
       "<style scoped>\n",
       "    .dataframe tbody tr th:only-of-type {\n",
       "        vertical-align: middle;\n",
       "    }\n",
       "\n",
       "    .dataframe tbody tr th {\n",
       "        vertical-align: top;\n",
       "    }\n",
       "\n",
       "    .dataframe thead th {\n",
       "        text-align: right;\n",
       "    }\n",
       "</style>\n",
       "<table border=\"1\" class=\"dataframe\">\n",
       "  <thead>\n",
       "    <tr style=\"text-align: right;\">\n",
       "      <th></th>\n",
       "      <th>Date/Time</th>\n",
       "      <th>Temp (C)</th>\n",
       "      <th>Dew Point Temp (C)</th>\n",
       "      <th>Rel Hum (%)</th>\n",
       "      <th>Wind Spd (km/h)</th>\n",
       "      <th>Visibility (km)</th>\n",
       "      <th>Stn Press (kPa)</th>\n",
       "      <th>Weather</th>\n",
       "    </tr>\n",
       "  </thead>\n",
       "  <tbody>\n",
       "    <tr>\n",
       "      <th>8779</th>\n",
       "      <td>2012-12-31 19:00:00</td>\n",
       "      <td>0.1</td>\n",
       "      <td>-2.7</td>\n",
       "      <td>81</td>\n",
       "      <td>30</td>\n",
       "      <td>9.7</td>\n",
       "      <td>100.13</td>\n",
       "      <td>Snow</td>\n",
       "    </tr>\n",
       "    <tr>\n",
       "      <th>8780</th>\n",
       "      <td>2012-12-31 20:00:00</td>\n",
       "      <td>0.2</td>\n",
       "      <td>-2.4</td>\n",
       "      <td>83</td>\n",
       "      <td>24</td>\n",
       "      <td>9.7</td>\n",
       "      <td>100.03</td>\n",
       "      <td>Snow</td>\n",
       "    </tr>\n",
       "    <tr>\n",
       "      <th>8781</th>\n",
       "      <td>2012-12-31 21:00:00</td>\n",
       "      <td>-0.5</td>\n",
       "      <td>-1.5</td>\n",
       "      <td>93</td>\n",
       "      <td>28</td>\n",
       "      <td>4.8</td>\n",
       "      <td>99.95</td>\n",
       "      <td>Snow</td>\n",
       "    </tr>\n",
       "    <tr>\n",
       "      <th>8782</th>\n",
       "      <td>2012-12-31 22:00:00</td>\n",
       "      <td>-0.2</td>\n",
       "      <td>-1.8</td>\n",
       "      <td>89</td>\n",
       "      <td>28</td>\n",
       "      <td>9.7</td>\n",
       "      <td>99.91</td>\n",
       "      <td>Snow</td>\n",
       "    </tr>\n",
       "    <tr>\n",
       "      <th>8783</th>\n",
       "      <td>2012-12-31 23:00:00</td>\n",
       "      <td>0.0</td>\n",
       "      <td>-2.1</td>\n",
       "      <td>86</td>\n",
       "      <td>30</td>\n",
       "      <td>11.3</td>\n",
       "      <td>99.89</td>\n",
       "      <td>Snow</td>\n",
       "    </tr>\n",
       "  </tbody>\n",
       "</table>\n",
       "</div>"
      ],
      "text/plain": [
       "                Date/Time  Temp (C)  Dew Point Temp (C)  Rel Hum (%)  \\\n",
       "8779  2012-12-31 19:00:00       0.1                -2.7           81   \n",
       "8780  2012-12-31 20:00:00       0.2                -2.4           83   \n",
       "8781  2012-12-31 21:00:00      -0.5                -1.5           93   \n",
       "8782  2012-12-31 22:00:00      -0.2                -1.8           89   \n",
       "8783  2012-12-31 23:00:00       0.0                -2.1           86   \n",
       "\n",
       "      Wind Spd (km/h)  Visibility (km)  Stn Press (kPa) Weather  \n",
       "8779               30              9.7           100.13    Snow  \n",
       "8780               24              9.7           100.03    Snow  \n",
       "8781               28              4.8            99.95    Snow  \n",
       "8782               28              9.7            99.91    Snow  \n",
       "8783               30             11.3            99.89    Snow  "
      ]
     },
     "execution_count": 213,
     "metadata": {},
     "output_type": "execute_result"
    }
   ],
   "source": [
    "df.tail()"
   ]
  },
  {
   "cell_type": "code",
   "execution_count": 214,
   "id": "5eb5710e",
   "metadata": {},
   "outputs": [
    {
     "data": {
      "text/html": [
       "<div>\n",
       "<style scoped>\n",
       "    .dataframe tbody tr th:only-of-type {\n",
       "        vertical-align: middle;\n",
       "    }\n",
       "\n",
       "    .dataframe tbody tr th {\n",
       "        vertical-align: top;\n",
       "    }\n",
       "\n",
       "    .dataframe thead th {\n",
       "        text-align: right;\n",
       "    }\n",
       "</style>\n",
       "<table border=\"1\" class=\"dataframe\">\n",
       "  <thead>\n",
       "    <tr style=\"text-align: right;\">\n",
       "      <th></th>\n",
       "      <th>Date/Time</th>\n",
       "      <th>Temp (C)</th>\n",
       "      <th>Dew Point Temp (C)</th>\n",
       "      <th>Rel Hum (%)</th>\n",
       "      <th>Wind Spd (km/h)</th>\n",
       "      <th>Visibility (km)</th>\n",
       "      <th>Stn Press (kPa)</th>\n",
       "      <th>Weather</th>\n",
       "    </tr>\n",
       "  </thead>\n",
       "  <tbody>\n",
       "    <tr>\n",
       "      <th>1749</th>\n",
       "      <td>2012-03-13 21:00:00</td>\n",
       "      <td>1.1</td>\n",
       "      <td>-1.0</td>\n",
       "      <td>86</td>\n",
       "      <td>20</td>\n",
       "      <td>4.8</td>\n",
       "      <td>100.87</td>\n",
       "      <td>Rain,Fog</td>\n",
       "    </tr>\n",
       "    <tr>\n",
       "      <th>6261</th>\n",
       "      <td>2012-09-17 21:00:00</td>\n",
       "      <td>19.3</td>\n",
       "      <td>15.3</td>\n",
       "      <td>78</td>\n",
       "      <td>0</td>\n",
       "      <td>25.0</td>\n",
       "      <td>100.88</td>\n",
       "      <td>Mainly Clear</td>\n",
       "    </tr>\n",
       "    <tr>\n",
       "      <th>5716</th>\n",
       "      <td>2012-08-26 04:00:00</td>\n",
       "      <td>23.2</td>\n",
       "      <td>16.9</td>\n",
       "      <td>68</td>\n",
       "      <td>7</td>\n",
       "      <td>25.0</td>\n",
       "      <td>101.95</td>\n",
       "      <td>Clear</td>\n",
       "    </tr>\n",
       "    <tr>\n",
       "      <th>4367</th>\n",
       "      <td>2012-06-30 23:00:00</td>\n",
       "      <td>22.3</td>\n",
       "      <td>15.6</td>\n",
       "      <td>66</td>\n",
       "      <td>4</td>\n",
       "      <td>25.0</td>\n",
       "      <td>100.07</td>\n",
       "      <td>Mostly Cloudy</td>\n",
       "    </tr>\n",
       "    <tr>\n",
       "      <th>5503</th>\n",
       "      <td>2012-08-17 07:00:00</td>\n",
       "      <td>19.5</td>\n",
       "      <td>16.0</td>\n",
       "      <td>80</td>\n",
       "      <td>15</td>\n",
       "      <td>24.1</td>\n",
       "      <td>100.24</td>\n",
       "      <td>Mostly Cloudy</td>\n",
       "    </tr>\n",
       "  </tbody>\n",
       "</table>\n",
       "</div>"
      ],
      "text/plain": [
       "                Date/Time  Temp (C)  Dew Point Temp (C)  Rel Hum (%)  \\\n",
       "1749  2012-03-13 21:00:00       1.1                -1.0           86   \n",
       "6261  2012-09-17 21:00:00      19.3                15.3           78   \n",
       "5716  2012-08-26 04:00:00      23.2                16.9           68   \n",
       "4367  2012-06-30 23:00:00      22.3                15.6           66   \n",
       "5503  2012-08-17 07:00:00      19.5                16.0           80   \n",
       "\n",
       "      Wind Spd (km/h)  Visibility (km)  Stn Press (kPa)        Weather  \n",
       "1749               20              4.8           100.87       Rain,Fog  \n",
       "6261                0             25.0           100.88   Mainly Clear  \n",
       "5716                7             25.0           101.95          Clear  \n",
       "4367                4             25.0           100.07  Mostly Cloudy  \n",
       "5503               15             24.1           100.24  Mostly Cloudy  "
      ]
     },
     "execution_count": 214,
     "metadata": {},
     "output_type": "execute_result"
    }
   ],
   "source": [
    "df.sample(5)"
   ]
  },
  {
   "cell_type": "markdown",
   "id": "62572693",
   "metadata": {},
   "source": [
    "3. Write the code to display a list of all of the columns in the dataset."
   ]
  },
  {
   "cell_type": "code",
   "execution_count": 215,
   "id": "c15d2b05",
   "metadata": {},
   "outputs": [
    {
     "data": {
      "text/plain": [
       "Index(['Date/Time', 'Temp (C)', 'Dew Point Temp (C)', 'Rel Hum (%)',\n",
       "       'Wind Spd (km/h)', 'Visibility (km)', 'Stn Press (kPa)', 'Weather'],\n",
       "      dtype='object')"
      ]
     },
     "execution_count": 215,
     "metadata": {},
     "output_type": "execute_result"
    }
   ],
   "source": [
    "df.columns"
   ]
  },
  {
   "cell_type": "markdown",
   "id": "ac7c14fa",
   "metadata": {},
   "source": [
    "4. The column names are unwieldy for our purposes. Rename them according to this list {date_time, temp_c, dew_point, relative_humidity, wind_speed, visibility, pressure, and weather}.  Keep a copy of the original columns so we can change them back at the end of our analysis."
   ]
  },
  {
   "cell_type": "code",
   "execution_count": 216,
   "id": "927310d2",
   "metadata": {},
   "outputs": [],
   "source": [
    "original_columns = df.columns"
   ]
  },
  {
   "cell_type": "code",
   "execution_count": 217,
   "id": "09ae9522",
   "metadata": {},
   "outputs": [],
   "source": [
    "col_names = [\n",
    "    'date_time',\n",
    "    'temp_c',\n",
    "    'dew_point',\n",
    "    'relative_humidity',\n",
    "    'wind_speed',\n",
    "    'visibility',\n",
    "    'pressure',\n",
    "    'weather'\n",
    "]"
   ]
  },
  {
   "cell_type": "code",
   "execution_count": 218,
   "id": "540b789e",
   "metadata": {},
   "outputs": [],
   "source": [
    "df.columns = col_names"
   ]
  },
  {
   "cell_type": "code",
   "execution_count": 219,
   "id": "c3ba703a",
   "metadata": {},
   "outputs": [
    {
     "data": {
      "text/html": [
       "<div>\n",
       "<style scoped>\n",
       "    .dataframe tbody tr th:only-of-type {\n",
       "        vertical-align: middle;\n",
       "    }\n",
       "\n",
       "    .dataframe tbody tr th {\n",
       "        vertical-align: top;\n",
       "    }\n",
       "\n",
       "    .dataframe thead th {\n",
       "        text-align: right;\n",
       "    }\n",
       "</style>\n",
       "<table border=\"1\" class=\"dataframe\">\n",
       "  <thead>\n",
       "    <tr style=\"text-align: right;\">\n",
       "      <th></th>\n",
       "      <th>date_time</th>\n",
       "      <th>temp_c</th>\n",
       "      <th>dew_point</th>\n",
       "      <th>relative_humidity</th>\n",
       "      <th>wind_speed</th>\n",
       "      <th>visibility</th>\n",
       "      <th>pressure</th>\n",
       "      <th>weather</th>\n",
       "    </tr>\n",
       "  </thead>\n",
       "  <tbody>\n",
       "    <tr>\n",
       "      <th>0</th>\n",
       "      <td>2012-01-01 00:00:00</td>\n",
       "      <td>-1.8</td>\n",
       "      <td>-3.9</td>\n",
       "      <td>86</td>\n",
       "      <td>4</td>\n",
       "      <td>8.0</td>\n",
       "      <td>101.24</td>\n",
       "      <td>Fog</td>\n",
       "    </tr>\n",
       "    <tr>\n",
       "      <th>1</th>\n",
       "      <td>2012-01-01 01:00:00</td>\n",
       "      <td>-1.8</td>\n",
       "      <td>-3.7</td>\n",
       "      <td>87</td>\n",
       "      <td>4</td>\n",
       "      <td>8.0</td>\n",
       "      <td>101.24</td>\n",
       "      <td>Fog</td>\n",
       "    </tr>\n",
       "    <tr>\n",
       "      <th>2</th>\n",
       "      <td>2012-01-01 02:00:00</td>\n",
       "      <td>-1.8</td>\n",
       "      <td>-3.4</td>\n",
       "      <td>89</td>\n",
       "      <td>7</td>\n",
       "      <td>4.0</td>\n",
       "      <td>101.26</td>\n",
       "      <td>Freezing Drizzle,Fog</td>\n",
       "    </tr>\n",
       "    <tr>\n",
       "      <th>3</th>\n",
       "      <td>2012-01-01 03:00:00</td>\n",
       "      <td>-1.5</td>\n",
       "      <td>-3.2</td>\n",
       "      <td>88</td>\n",
       "      <td>6</td>\n",
       "      <td>4.0</td>\n",
       "      <td>101.27</td>\n",
       "      <td>Freezing Drizzle,Fog</td>\n",
       "    </tr>\n",
       "    <tr>\n",
       "      <th>4</th>\n",
       "      <td>2012-01-01 04:00:00</td>\n",
       "      <td>-1.5</td>\n",
       "      <td>-3.3</td>\n",
       "      <td>88</td>\n",
       "      <td>7</td>\n",
       "      <td>4.8</td>\n",
       "      <td>101.23</td>\n",
       "      <td>Fog</td>\n",
       "    </tr>\n",
       "  </tbody>\n",
       "</table>\n",
       "</div>"
      ],
      "text/plain": [
       "             date_time  temp_c  dew_point  relative_humidity  wind_speed  \\\n",
       "0  2012-01-01 00:00:00    -1.8       -3.9                 86           4   \n",
       "1  2012-01-01 01:00:00    -1.8       -3.7                 87           4   \n",
       "2  2012-01-01 02:00:00    -1.8       -3.4                 89           7   \n",
       "3  2012-01-01 03:00:00    -1.5       -3.2                 88           6   \n",
       "4  2012-01-01 04:00:00    -1.5       -3.3                 88           7   \n",
       "\n",
       "   visibility  pressure               weather  \n",
       "0         8.0    101.24                   Fog  \n",
       "1         8.0    101.24                   Fog  \n",
       "2         4.0    101.26  Freezing Drizzle,Fog  \n",
       "3         4.0    101.27  Freezing Drizzle,Fog  \n",
       "4         4.8    101.23                   Fog  "
      ]
     },
     "execution_count": 219,
     "metadata": {},
     "output_type": "execute_result"
    }
   ],
   "source": [
    "df.head()"
   ]
  },
  {
   "cell_type": "markdown",
   "id": "8b74ff47",
   "metadata": {},
   "source": [
    "5. Most of the data in the dataset are numerical, write the code to get some standard statistics for each column (e.g. count, mean, etc.)"
   ]
  },
  {
   "cell_type": "code",
   "execution_count": 220,
   "id": "09205fec",
   "metadata": {},
   "outputs": [
    {
     "data": {
      "text/html": [
       "<div>\n",
       "<style scoped>\n",
       "    .dataframe tbody tr th:only-of-type {\n",
       "        vertical-align: middle;\n",
       "    }\n",
       "\n",
       "    .dataframe tbody tr th {\n",
       "        vertical-align: top;\n",
       "    }\n",
       "\n",
       "    .dataframe thead th {\n",
       "        text-align: right;\n",
       "    }\n",
       "</style>\n",
       "<table border=\"1\" class=\"dataframe\">\n",
       "  <thead>\n",
       "    <tr style=\"text-align: right;\">\n",
       "      <th></th>\n",
       "      <th>temp_c</th>\n",
       "      <th>dew_point</th>\n",
       "      <th>relative_humidity</th>\n",
       "      <th>wind_speed</th>\n",
       "      <th>visibility</th>\n",
       "      <th>pressure</th>\n",
       "    </tr>\n",
       "  </thead>\n",
       "  <tbody>\n",
       "    <tr>\n",
       "      <th>count</th>\n",
       "      <td>8784.000000</td>\n",
       "      <td>8784.000000</td>\n",
       "      <td>8784.000000</td>\n",
       "      <td>8784.000000</td>\n",
       "      <td>8784.000000</td>\n",
       "      <td>8784.000000</td>\n",
       "    </tr>\n",
       "    <tr>\n",
       "      <th>mean</th>\n",
       "      <td>8.798144</td>\n",
       "      <td>2.555294</td>\n",
       "      <td>67.431694</td>\n",
       "      <td>14.945469</td>\n",
       "      <td>27.664447</td>\n",
       "      <td>101.051623</td>\n",
       "    </tr>\n",
       "    <tr>\n",
       "      <th>std</th>\n",
       "      <td>11.687883</td>\n",
       "      <td>10.883072</td>\n",
       "      <td>16.918881</td>\n",
       "      <td>8.688696</td>\n",
       "      <td>12.622688</td>\n",
       "      <td>0.844005</td>\n",
       "    </tr>\n",
       "    <tr>\n",
       "      <th>min</th>\n",
       "      <td>-23.300000</td>\n",
       "      <td>-28.500000</td>\n",
       "      <td>18.000000</td>\n",
       "      <td>0.000000</td>\n",
       "      <td>0.200000</td>\n",
       "      <td>97.520000</td>\n",
       "    </tr>\n",
       "    <tr>\n",
       "      <th>25%</th>\n",
       "      <td>0.100000</td>\n",
       "      <td>-5.900000</td>\n",
       "      <td>56.000000</td>\n",
       "      <td>9.000000</td>\n",
       "      <td>24.100000</td>\n",
       "      <td>100.560000</td>\n",
       "    </tr>\n",
       "    <tr>\n",
       "      <th>50%</th>\n",
       "      <td>9.300000</td>\n",
       "      <td>3.300000</td>\n",
       "      <td>68.000000</td>\n",
       "      <td>13.000000</td>\n",
       "      <td>25.000000</td>\n",
       "      <td>101.070000</td>\n",
       "    </tr>\n",
       "    <tr>\n",
       "      <th>75%</th>\n",
       "      <td>18.800000</td>\n",
       "      <td>11.800000</td>\n",
       "      <td>81.000000</td>\n",
       "      <td>20.000000</td>\n",
       "      <td>25.000000</td>\n",
       "      <td>101.590000</td>\n",
       "    </tr>\n",
       "    <tr>\n",
       "      <th>max</th>\n",
       "      <td>33.000000</td>\n",
       "      <td>24.400000</td>\n",
       "      <td>100.000000</td>\n",
       "      <td>83.000000</td>\n",
       "      <td>48.300000</td>\n",
       "      <td>103.650000</td>\n",
       "    </tr>\n",
       "  </tbody>\n",
       "</table>\n",
       "</div>"
      ],
      "text/plain": [
       "            temp_c    dew_point  relative_humidity   wind_speed   visibility  \\\n",
       "count  8784.000000  8784.000000        8784.000000  8784.000000  8784.000000   \n",
       "mean      8.798144     2.555294          67.431694    14.945469    27.664447   \n",
       "std      11.687883    10.883072          16.918881     8.688696    12.622688   \n",
       "min     -23.300000   -28.500000          18.000000     0.000000     0.200000   \n",
       "25%       0.100000    -5.900000          56.000000     9.000000    24.100000   \n",
       "50%       9.300000     3.300000          68.000000    13.000000    25.000000   \n",
       "75%      18.800000    11.800000          81.000000    20.000000    25.000000   \n",
       "max      33.000000    24.400000         100.000000    83.000000    48.300000   \n",
       "\n",
       "          pressure  \n",
       "count  8784.000000  \n",
       "mean    101.051623  \n",
       "std       0.844005  \n",
       "min      97.520000  \n",
       "25%     100.560000  \n",
       "50%     101.070000  \n",
       "75%     101.590000  \n",
       "max     103.650000  "
      ]
     },
     "execution_count": 220,
     "metadata": {},
     "output_type": "execute_result"
    }
   ],
   "source": [
    "df.describe()"
   ]
  },
  {
   "cell_type": "markdown",
   "id": "0aad7fbf",
   "metadata": {},
   "source": [
    "6. Write the code to add a column named temp_f to the dataset that contains the temperature from temp_c represented in Fahrenheit."
   ]
  },
  {
   "cell_type": "code",
   "execution_count": 221,
   "id": "9ec831b2",
   "metadata": {},
   "outputs": [],
   "source": [
    "df['temp_f']=(df.temp_c*1.8)+32"
   ]
  },
  {
   "cell_type": "code",
   "execution_count": 222,
   "id": "435179db",
   "metadata": {},
   "outputs": [
    {
     "data": {
      "text/html": [
       "<div>\n",
       "<style scoped>\n",
       "    .dataframe tbody tr th:only-of-type {\n",
       "        vertical-align: middle;\n",
       "    }\n",
       "\n",
       "    .dataframe tbody tr th {\n",
       "        vertical-align: top;\n",
       "    }\n",
       "\n",
       "    .dataframe thead th {\n",
       "        text-align: right;\n",
       "    }\n",
       "</style>\n",
       "<table border=\"1\" class=\"dataframe\">\n",
       "  <thead>\n",
       "    <tr style=\"text-align: right;\">\n",
       "      <th></th>\n",
       "      <th>date_time</th>\n",
       "      <th>temp_c</th>\n",
       "      <th>dew_point</th>\n",
       "      <th>relative_humidity</th>\n",
       "      <th>wind_speed</th>\n",
       "      <th>visibility</th>\n",
       "      <th>pressure</th>\n",
       "      <th>weather</th>\n",
       "      <th>temp_f</th>\n",
       "    </tr>\n",
       "  </thead>\n",
       "  <tbody>\n",
       "    <tr>\n",
       "      <th>0</th>\n",
       "      <td>2012-01-01 00:00:00</td>\n",
       "      <td>-1.8</td>\n",
       "      <td>-3.9</td>\n",
       "      <td>86</td>\n",
       "      <td>4</td>\n",
       "      <td>8.0</td>\n",
       "      <td>101.24</td>\n",
       "      <td>Fog</td>\n",
       "      <td>28.76</td>\n",
       "    </tr>\n",
       "    <tr>\n",
       "      <th>1</th>\n",
       "      <td>2012-01-01 01:00:00</td>\n",
       "      <td>-1.8</td>\n",
       "      <td>-3.7</td>\n",
       "      <td>87</td>\n",
       "      <td>4</td>\n",
       "      <td>8.0</td>\n",
       "      <td>101.24</td>\n",
       "      <td>Fog</td>\n",
       "      <td>28.76</td>\n",
       "    </tr>\n",
       "    <tr>\n",
       "      <th>2</th>\n",
       "      <td>2012-01-01 02:00:00</td>\n",
       "      <td>-1.8</td>\n",
       "      <td>-3.4</td>\n",
       "      <td>89</td>\n",
       "      <td>7</td>\n",
       "      <td>4.0</td>\n",
       "      <td>101.26</td>\n",
       "      <td>Freezing Drizzle,Fog</td>\n",
       "      <td>28.76</td>\n",
       "    </tr>\n",
       "    <tr>\n",
       "      <th>3</th>\n",
       "      <td>2012-01-01 03:00:00</td>\n",
       "      <td>-1.5</td>\n",
       "      <td>-3.2</td>\n",
       "      <td>88</td>\n",
       "      <td>6</td>\n",
       "      <td>4.0</td>\n",
       "      <td>101.27</td>\n",
       "      <td>Freezing Drizzle,Fog</td>\n",
       "      <td>29.30</td>\n",
       "    </tr>\n",
       "    <tr>\n",
       "      <th>4</th>\n",
       "      <td>2012-01-01 04:00:00</td>\n",
       "      <td>-1.5</td>\n",
       "      <td>-3.3</td>\n",
       "      <td>88</td>\n",
       "      <td>7</td>\n",
       "      <td>4.8</td>\n",
       "      <td>101.23</td>\n",
       "      <td>Fog</td>\n",
       "      <td>29.30</td>\n",
       "    </tr>\n",
       "  </tbody>\n",
       "</table>\n",
       "</div>"
      ],
      "text/plain": [
       "             date_time  temp_c  dew_point  relative_humidity  wind_speed  \\\n",
       "0  2012-01-01 00:00:00    -1.8       -3.9                 86           4   \n",
       "1  2012-01-01 01:00:00    -1.8       -3.7                 87           4   \n",
       "2  2012-01-01 02:00:00    -1.8       -3.4                 89           7   \n",
       "3  2012-01-01 03:00:00    -1.5       -3.2                 88           6   \n",
       "4  2012-01-01 04:00:00    -1.5       -3.3                 88           7   \n",
       "\n",
       "   visibility  pressure               weather  temp_f  \n",
       "0         8.0    101.24                   Fog   28.76  \n",
       "1         8.0    101.24                   Fog   28.76  \n",
       "2         4.0    101.26  Freezing Drizzle,Fog   28.76  \n",
       "3         4.0    101.27  Freezing Drizzle,Fog   29.30  \n",
       "4         4.8    101.23                   Fog   29.30  "
      ]
     },
     "execution_count": 222,
     "metadata": {},
     "output_type": "execute_result"
    }
   ],
   "source": [
    "df.head()"
   ]
  },
  {
   "cell_type": "markdown",
   "id": "2f6e50d3",
   "metadata": {},
   "source": [
    "7. Write the code to rearrange the columns in the dataset so temp_f appears immediately before temp_c."
   ]
  },
  {
   "cell_type": "code",
   "execution_count": 223,
   "id": "88ef1e79",
   "metadata": {},
   "outputs": [],
   "source": [
    "temp_f = df['temp_f']\n",
    "df = df.drop(columns=['temp_f'])\n",
    "df.insert(loc=2, column='temp_f', value=temp_f)"
   ]
  },
  {
   "cell_type": "code",
   "execution_count": 224,
   "id": "388fb99b",
   "metadata": {},
   "outputs": [
    {
     "data": {
      "text/html": [
       "<div>\n",
       "<style scoped>\n",
       "    .dataframe tbody tr th:only-of-type {\n",
       "        vertical-align: middle;\n",
       "    }\n",
       "\n",
       "    .dataframe tbody tr th {\n",
       "        vertical-align: top;\n",
       "    }\n",
       "\n",
       "    .dataframe thead th {\n",
       "        text-align: right;\n",
       "    }\n",
       "</style>\n",
       "<table border=\"1\" class=\"dataframe\">\n",
       "  <thead>\n",
       "    <tr style=\"text-align: right;\">\n",
       "      <th></th>\n",
       "      <th>date_time</th>\n",
       "      <th>temp_c</th>\n",
       "      <th>temp_f</th>\n",
       "      <th>dew_point</th>\n",
       "      <th>relative_humidity</th>\n",
       "      <th>wind_speed</th>\n",
       "      <th>visibility</th>\n",
       "      <th>pressure</th>\n",
       "      <th>weather</th>\n",
       "    </tr>\n",
       "  </thead>\n",
       "  <tbody>\n",
       "    <tr>\n",
       "      <th>0</th>\n",
       "      <td>2012-01-01 00:00:00</td>\n",
       "      <td>-1.8</td>\n",
       "      <td>28.76</td>\n",
       "      <td>-3.9</td>\n",
       "      <td>86</td>\n",
       "      <td>4</td>\n",
       "      <td>8.0</td>\n",
       "      <td>101.24</td>\n",
       "      <td>Fog</td>\n",
       "    </tr>\n",
       "    <tr>\n",
       "      <th>1</th>\n",
       "      <td>2012-01-01 01:00:00</td>\n",
       "      <td>-1.8</td>\n",
       "      <td>28.76</td>\n",
       "      <td>-3.7</td>\n",
       "      <td>87</td>\n",
       "      <td>4</td>\n",
       "      <td>8.0</td>\n",
       "      <td>101.24</td>\n",
       "      <td>Fog</td>\n",
       "    </tr>\n",
       "    <tr>\n",
       "      <th>2</th>\n",
       "      <td>2012-01-01 02:00:00</td>\n",
       "      <td>-1.8</td>\n",
       "      <td>28.76</td>\n",
       "      <td>-3.4</td>\n",
       "      <td>89</td>\n",
       "      <td>7</td>\n",
       "      <td>4.0</td>\n",
       "      <td>101.26</td>\n",
       "      <td>Freezing Drizzle,Fog</td>\n",
       "    </tr>\n",
       "    <tr>\n",
       "      <th>3</th>\n",
       "      <td>2012-01-01 03:00:00</td>\n",
       "      <td>-1.5</td>\n",
       "      <td>29.30</td>\n",
       "      <td>-3.2</td>\n",
       "      <td>88</td>\n",
       "      <td>6</td>\n",
       "      <td>4.0</td>\n",
       "      <td>101.27</td>\n",
       "      <td>Freezing Drizzle,Fog</td>\n",
       "    </tr>\n",
       "    <tr>\n",
       "      <th>4</th>\n",
       "      <td>2012-01-01 04:00:00</td>\n",
       "      <td>-1.5</td>\n",
       "      <td>29.30</td>\n",
       "      <td>-3.3</td>\n",
       "      <td>88</td>\n",
       "      <td>7</td>\n",
       "      <td>4.8</td>\n",
       "      <td>101.23</td>\n",
       "      <td>Fog</td>\n",
       "    </tr>\n",
       "  </tbody>\n",
       "</table>\n",
       "</div>"
      ],
      "text/plain": [
       "             date_time  temp_c  temp_f  dew_point  relative_humidity  \\\n",
       "0  2012-01-01 00:00:00    -1.8   28.76       -3.9                 86   \n",
       "1  2012-01-01 01:00:00    -1.8   28.76       -3.7                 87   \n",
       "2  2012-01-01 02:00:00    -1.8   28.76       -3.4                 89   \n",
       "3  2012-01-01 03:00:00    -1.5   29.30       -3.2                 88   \n",
       "4  2012-01-01 04:00:00    -1.5   29.30       -3.3                 88   \n",
       "\n",
       "   wind_speed  visibility  pressure               weather  \n",
       "0           4         8.0    101.24                   Fog  \n",
       "1           4         8.0    101.24                   Fog  \n",
       "2           7         4.0    101.26  Freezing Drizzle,Fog  \n",
       "3           6         4.0    101.27  Freezing Drizzle,Fog  \n",
       "4           7         4.8    101.23                   Fog  "
      ]
     },
     "execution_count": 224,
     "metadata": {},
     "output_type": "execute_result"
    }
   ],
   "source": [
    "df.head()"
   ]
  },
  {
   "cell_type": "markdown",
   "id": "3ae7113e",
   "metadata": {},
   "source": [
    "8. Write the code to display the data types of all the columns in the dataset"
   ]
  },
  {
   "cell_type": "code",
   "execution_count": 225,
   "id": "b6c9e9d8",
   "metadata": {},
   "outputs": [
    {
     "data": {
      "text/plain": [
       "date_time             object\n",
       "temp_c               float64\n",
       "temp_f               float64\n",
       "dew_point            float64\n",
       "relative_humidity      int64\n",
       "wind_speed             int64\n",
       "visibility           float64\n",
       "pressure             float64\n",
       "weather               object\n",
       "dtype: object"
      ]
     },
     "execution_count": 225,
     "metadata": {},
     "output_type": "execute_result"
    }
   ],
   "source": [
    "df.dtypes"
   ]
  },
  {
   "cell_type": "markdown",
   "id": "568a5328",
   "metadata": {},
   "source": [
    "9. You’ll notice that the date_time column is not considered a date by Pandas.  Write the code to convert this column to a date/time column. Verify the conversion was successful."
   ]
  },
  {
   "cell_type": "code",
   "execution_count": 226,
   "id": "bd96f6af",
   "metadata": {},
   "outputs": [],
   "source": [
    "df.date_time = pd.to_datetime(df.date_time)"
   ]
  },
  {
   "cell_type": "code",
   "execution_count": 227,
   "id": "c6aeaf24",
   "metadata": {},
   "outputs": [
    {
     "data": {
      "text/plain": [
       "date_time            datetime64[ns]\n",
       "temp_c                      float64\n",
       "temp_f                      float64\n",
       "dew_point                   float64\n",
       "relative_humidity             int64\n",
       "wind_speed                    int64\n",
       "visibility                  float64\n",
       "pressure                    float64\n",
       "weather                      object\n",
       "dtype: object"
      ]
     },
     "execution_count": 227,
     "metadata": {},
     "output_type": "execute_result"
    }
   ],
   "source": [
    "df.dtypes"
   ]
  },
  {
   "cell_type": "markdown",
   "id": "fa39054f",
   "metadata": {},
   "source": [
    "10. Write the code to get the average temperature for each month and put it into a dataframe (not a series, you might need to do some conversion) named monthly_avg."
   ]
  },
  {
   "cell_type": "code",
   "execution_count": 228,
   "id": "e1daa7ca",
   "metadata": {},
   "outputs": [],
   "source": [
    "Months = df.date_time.dt.month\n",
    "Months.to_csv('months.csv', index=False)\n",
    "Months1 = pd.read_csv('months.csv')\n",
    "Months1['date']=df.date_time\n",
    "Months1.columns=['month','date_time']\n",
    "Months1 = Months1[['date_time','month']]\n",
    "Months1['temp_f']=df['temp_f']"
   ]
  },
  {
   "cell_type": "code",
   "execution_count": 229,
   "id": "1faf69f4",
   "metadata": {},
   "outputs": [
    {
     "data": {
      "text/html": [
       "<div>\n",
       "<style scoped>\n",
       "    .dataframe tbody tr th:only-of-type {\n",
       "        vertical-align: middle;\n",
       "    }\n",
       "\n",
       "    .dataframe tbody tr th {\n",
       "        vertical-align: top;\n",
       "    }\n",
       "\n",
       "    .dataframe thead th {\n",
       "        text-align: right;\n",
       "    }\n",
       "</style>\n",
       "<table border=\"1\" class=\"dataframe\">\n",
       "  <thead>\n",
       "    <tr style=\"text-align: right;\">\n",
       "      <th></th>\n",
       "      <th>date_time</th>\n",
       "      <th>month</th>\n",
       "      <th>temp_f</th>\n",
       "    </tr>\n",
       "  </thead>\n",
       "  <tbody>\n",
       "    <tr>\n",
       "      <th>0</th>\n",
       "      <td>2012-01-01 00:00:00</td>\n",
       "      <td>1</td>\n",
       "      <td>28.76</td>\n",
       "    </tr>\n",
       "    <tr>\n",
       "      <th>1</th>\n",
       "      <td>2012-01-01 01:00:00</td>\n",
       "      <td>1</td>\n",
       "      <td>28.76</td>\n",
       "    </tr>\n",
       "    <tr>\n",
       "      <th>2</th>\n",
       "      <td>2012-01-01 02:00:00</td>\n",
       "      <td>1</td>\n",
       "      <td>28.76</td>\n",
       "    </tr>\n",
       "    <tr>\n",
       "      <th>3</th>\n",
       "      <td>2012-01-01 03:00:00</td>\n",
       "      <td>1</td>\n",
       "      <td>29.30</td>\n",
       "    </tr>\n",
       "    <tr>\n",
       "      <th>4</th>\n",
       "      <td>2012-01-01 04:00:00</td>\n",
       "      <td>1</td>\n",
       "      <td>29.30</td>\n",
       "    </tr>\n",
       "  </tbody>\n",
       "</table>\n",
       "</div>"
      ],
      "text/plain": [
       "            date_time  month  temp_f\n",
       "0 2012-01-01 00:00:00      1   28.76\n",
       "1 2012-01-01 01:00:00      1   28.76\n",
       "2 2012-01-01 02:00:00      1   28.76\n",
       "3 2012-01-01 03:00:00      1   29.30\n",
       "4 2012-01-01 04:00:00      1   29.30"
      ]
     },
     "execution_count": 229,
     "metadata": {},
     "output_type": "execute_result"
    }
   ],
   "source": [
    "Months1.head(5)"
   ]
  },
  {
   "cell_type": "code",
   "execution_count": 230,
   "id": "e238b56c",
   "metadata": {},
   "outputs": [],
   "source": [
    "monthly_avg = Months1['temp_f'].groupby(Months1['month']).mean()"
   ]
  },
  {
   "cell_type": "code",
   "execution_count": 231,
   "id": "e57f167a",
   "metadata": {},
   "outputs": [],
   "source": [
    "monthly_avg.to_csv('monthly_avg.csv',index=False)"
   ]
  },
  {
   "cell_type": "markdown",
   "id": "1fae0e11",
   "metadata": {},
   "source": [
    "11. Write the code to promote the index for monthly_avg to a column called 'month'. This column will contain 1, 2, ..., 11, 12."
   ]
  },
  {
   "cell_type": "code",
   "execution_count": 232,
   "id": "d6c9666e",
   "metadata": {},
   "outputs": [],
   "source": [
    "monthly_avg = pd.read_csv('monthly_avg.csv')"
   ]
  },
  {
   "cell_type": "code",
   "execution_count": 233,
   "id": "b036a260",
   "metadata": {},
   "outputs": [],
   "source": [
    "monthly_avg['month'] = monthly_avg.index+1"
   ]
  },
  {
   "cell_type": "code",
   "execution_count": 234,
   "id": "1ce9c66c",
   "metadata": {},
   "outputs": [
    {
     "data": {
      "text/html": [
       "<div>\n",
       "<style scoped>\n",
       "    .dataframe tbody tr th:only-of-type {\n",
       "        vertical-align: middle;\n",
       "    }\n",
       "\n",
       "    .dataframe tbody tr th {\n",
       "        vertical-align: top;\n",
       "    }\n",
       "\n",
       "    .dataframe thead th {\n",
       "        text-align: right;\n",
       "    }\n",
       "</style>\n",
       "<table border=\"1\" class=\"dataframe\">\n",
       "  <thead>\n",
       "    <tr style=\"text-align: right;\">\n",
       "      <th></th>\n",
       "      <th>temp_f</th>\n",
       "      <th>month</th>\n",
       "    </tr>\n",
       "  </thead>\n",
       "  <tbody>\n",
       "    <tr>\n",
       "      <th>0</th>\n",
       "      <td>18.731290</td>\n",
       "      <td>1</td>\n",
       "    </tr>\n",
       "    <tr>\n",
       "      <th>1</th>\n",
       "      <td>24.395000</td>\n",
       "      <td>2</td>\n",
       "    </tr>\n",
       "    <tr>\n",
       "      <th>2</th>\n",
       "      <td>37.618226</td>\n",
       "      <td>3</td>\n",
       "    </tr>\n",
       "    <tr>\n",
       "      <th>3</th>\n",
       "      <td>44.616750</td>\n",
       "      <td>4</td>\n",
       "    </tr>\n",
       "    <tr>\n",
       "      <th>4</th>\n",
       "      <td>61.227984</td>\n",
       "      <td>5</td>\n",
       "    </tr>\n",
       "  </tbody>\n",
       "</table>\n",
       "</div>"
      ],
      "text/plain": [
       "      temp_f  month\n",
       "0  18.731290      1\n",
       "1  24.395000      2\n",
       "2  37.618226      3\n",
       "3  44.616750      4\n",
       "4  61.227984      5"
      ]
     },
     "execution_count": 234,
     "metadata": {},
     "output_type": "execute_result"
    }
   ],
   "source": [
    "monthly_avg.head()"
   ]
  },
  {
   "cell_type": "markdown",
   "id": "d3bc8cd1",
   "metadata": {},
   "source": [
    "12. Write the code to reorder the monthly_avg columns so they appear [‘month’, ‘temp_f’]"
   ]
  },
  {
   "cell_type": "code",
   "execution_count": 235,
   "id": "2c1913dd",
   "metadata": {},
   "outputs": [],
   "source": [
    "monthly_avg = monthly_avg[['month', 'temp_f']]"
   ]
  },
  {
   "cell_type": "code",
   "execution_count": 236,
   "id": "b1fb9e93",
   "metadata": {},
   "outputs": [
    {
     "data": {
      "text/html": [
       "<div>\n",
       "<style scoped>\n",
       "    .dataframe tbody tr th:only-of-type {\n",
       "        vertical-align: middle;\n",
       "    }\n",
       "\n",
       "    .dataframe tbody tr th {\n",
       "        vertical-align: top;\n",
       "    }\n",
       "\n",
       "    .dataframe thead th {\n",
       "        text-align: right;\n",
       "    }\n",
       "</style>\n",
       "<table border=\"1\" class=\"dataframe\">\n",
       "  <thead>\n",
       "    <tr style=\"text-align: right;\">\n",
       "      <th></th>\n",
       "      <th>month</th>\n",
       "      <th>temp_f</th>\n",
       "    </tr>\n",
       "  </thead>\n",
       "  <tbody>\n",
       "    <tr>\n",
       "      <th>0</th>\n",
       "      <td>1</td>\n",
       "      <td>18.731290</td>\n",
       "    </tr>\n",
       "    <tr>\n",
       "      <th>1</th>\n",
       "      <td>2</td>\n",
       "      <td>24.395000</td>\n",
       "    </tr>\n",
       "    <tr>\n",
       "      <th>2</th>\n",
       "      <td>3</td>\n",
       "      <td>37.618226</td>\n",
       "    </tr>\n",
       "    <tr>\n",
       "      <th>3</th>\n",
       "      <td>4</td>\n",
       "      <td>44.616750</td>\n",
       "    </tr>\n",
       "    <tr>\n",
       "      <th>4</th>\n",
       "      <td>5</td>\n",
       "      <td>61.227984</td>\n",
       "    </tr>\n",
       "    <tr>\n",
       "      <th>5</th>\n",
       "      <td>6</td>\n",
       "      <td>68.241250</td>\n",
       "    </tr>\n",
       "    <tr>\n",
       "      <th>6</th>\n",
       "      <td>7</td>\n",
       "      <td>73.022097</td>\n",
       "    </tr>\n",
       "    <tr>\n",
       "      <th>7</th>\n",
       "      <td>8</td>\n",
       "      <td>72.102742</td>\n",
       "    </tr>\n",
       "    <tr>\n",
       "      <th>8</th>\n",
       "      <td>9</td>\n",
       "      <td>61.672000</td>\n",
       "    </tr>\n",
       "    <tr>\n",
       "      <th>9</th>\n",
       "      <td>10</td>\n",
       "      <td>51.718952</td>\n",
       "    </tr>\n",
       "    <tr>\n",
       "      <th>10</th>\n",
       "      <td>11</td>\n",
       "      <td>33.676500</td>\n",
       "    </tr>\n",
       "    <tr>\n",
       "      <th>11</th>\n",
       "      <td>12</td>\n",
       "      <td>26.048629</td>\n",
       "    </tr>\n",
       "  </tbody>\n",
       "</table>\n",
       "</div>"
      ],
      "text/plain": [
       "    month     temp_f\n",
       "0       1  18.731290\n",
       "1       2  24.395000\n",
       "2       3  37.618226\n",
       "3       4  44.616750\n",
       "4       5  61.227984\n",
       "5       6  68.241250\n",
       "6       7  73.022097\n",
       "7       8  72.102742\n",
       "8       9  61.672000\n",
       "9      10  51.718952\n",
       "10     11  33.676500\n",
       "11     12  26.048629"
      ]
     },
     "execution_count": 236,
     "metadata": {},
     "output_type": "execute_result"
    }
   ],
   "source": [
    "monthly_avg.head(12)"
   ]
  },
  {
   "cell_type": "markdown",
   "id": "4022f395",
   "metadata": {},
   "source": [
    "13. Write the code to rename the monthly_avg index so that it has an empty name (e.g. when you list the dataframe it doesn’t show an index name)."
   ]
  },
  {
   "cell_type": "code",
   "execution_count": 237,
   "id": "634c26f9",
   "metadata": {},
   "outputs": [
    {
     "data": {
      "text/plain": [
       "RangeIndex(start=0, stop=12, step=1, name='')"
      ]
     },
     "execution_count": 237,
     "metadata": {},
     "output_type": "execute_result"
    }
   ],
   "source": [
    "monthly_avg.index.rename('')"
   ]
  },
  {
   "cell_type": "markdown",
   "id": "f27235d2",
   "metadata": {},
   "source": [
    "14. Write the code to change each entry in the monthly_avg.month column so it shows the name of the month instead of the number. You must do this by creating a function that accepts the month (number) and returns the month name which you call from a map/lambda expression. A dictionary is useful here."
   ]
  },
  {
   "cell_type": "code",
   "execution_count": 238,
   "id": "d16aae40",
   "metadata": {},
   "outputs": [],
   "source": [
    "def set_months(n):\n",
    "    month_names = {\n",
    "        1:\"January\",\n",
    "        2:\"February\",\n",
    "        3:\"March\",\n",
    "        4:\"April\",\n",
    "        5:\"May\",\n",
    "        6:\"June\",\n",
    "        7:\"July\",\n",
    "        8:\"August\",\n",
    "        9:\"September\",\n",
    "        10:\"October\",\n",
    "        11:\"November\",\n",
    "        12:\"December\"\n",
    "    }\n",
    "    return month_names[n]"
   ]
  },
  {
   "cell_type": "code",
   "execution_count": 239,
   "id": "1b714b09",
   "metadata": {},
   "outputs": [],
   "source": [
    "monthly_avg['month']=list(map(lambda x: set_months(x), monthly_avg['month']))"
   ]
  },
  {
   "cell_type": "code",
   "execution_count": 240,
   "id": "b3b404b1",
   "metadata": {},
   "outputs": [
    {
     "data": {
      "text/html": [
       "<div>\n",
       "<style scoped>\n",
       "    .dataframe tbody tr th:only-of-type {\n",
       "        vertical-align: middle;\n",
       "    }\n",
       "\n",
       "    .dataframe tbody tr th {\n",
       "        vertical-align: top;\n",
       "    }\n",
       "\n",
       "    .dataframe thead th {\n",
       "        text-align: right;\n",
       "    }\n",
       "</style>\n",
       "<table border=\"1\" class=\"dataframe\">\n",
       "  <thead>\n",
       "    <tr style=\"text-align: right;\">\n",
       "      <th></th>\n",
       "      <th>month</th>\n",
       "      <th>temp_f</th>\n",
       "    </tr>\n",
       "  </thead>\n",
       "  <tbody>\n",
       "    <tr>\n",
       "      <th>0</th>\n",
       "      <td>January</td>\n",
       "      <td>18.731290</td>\n",
       "    </tr>\n",
       "    <tr>\n",
       "      <th>1</th>\n",
       "      <td>February</td>\n",
       "      <td>24.395000</td>\n",
       "    </tr>\n",
       "    <tr>\n",
       "      <th>2</th>\n",
       "      <td>March</td>\n",
       "      <td>37.618226</td>\n",
       "    </tr>\n",
       "    <tr>\n",
       "      <th>3</th>\n",
       "      <td>April</td>\n",
       "      <td>44.616750</td>\n",
       "    </tr>\n",
       "    <tr>\n",
       "      <th>4</th>\n",
       "      <td>May</td>\n",
       "      <td>61.227984</td>\n",
       "    </tr>\n",
       "  </tbody>\n",
       "</table>\n",
       "</div>"
      ],
      "text/plain": [
       "      month     temp_f\n",
       "0   January  18.731290\n",
       "1  February  24.395000\n",
       "2     March  37.618226\n",
       "3     April  44.616750\n",
       "4       May  61.227984"
      ]
     },
     "execution_count": 240,
     "metadata": {},
     "output_type": "execute_result"
    }
   ],
   "source": [
    "monthly_avg.head()"
   ]
  },
  {
   "cell_type": "markdown",
   "id": "fe2cadd2",
   "metadata": {},
   "source": [
    "15. Write the code to get the average temperature for each hour starting from 00:00:00 to 23:00:00 (you can leave this in a series – you are going to manipulate the index)"
   ]
  },
  {
   "cell_type": "code",
   "execution_count": 241,
   "id": "1373d67b",
   "metadata": {},
   "outputs": [],
   "source": [
    "Hours1 = df.date_time\n",
    "Hours1.to_csv('hours.csv', index=False)\n",
    "Hours = pd.read_csv('hours.csv')\n",
    "Hours['hour']=df.date_time.dt.hour\n",
    "Hours['temp_f']=df.date_time.dt.hour\n",
    "Hours['temp_f']=df['temp_f']"
   ]
  },
  {
   "cell_type": "code",
   "execution_count": 242,
   "id": "846bbe5f",
   "metadata": {},
   "outputs": [],
   "source": [
    "hourly_avg = Hours['temp_f'].groupby(Hours['hour']).mean()"
   ]
  },
  {
   "cell_type": "code",
   "execution_count": 243,
   "id": "448e91ee",
   "metadata": {},
   "outputs": [
    {
     "data": {
      "text/plain": [
       "hour\n",
       "0     45.623443\n",
       "1     44.762787\n",
       "2     43.980820\n",
       "3     43.325246\n",
       "4     42.744426\n",
       "5     42.291967\n",
       "6     42.859508\n",
       "7     43.831311\n",
       "8     45.280656\n",
       "9     46.987213\n",
       "10    48.699672\n",
       "11    50.193770\n",
       "12    51.541803\n",
       "13    52.508689\n",
       "14    53.196721\n",
       "15    53.391475\n",
       "16    53.178033\n",
       "17    52.297705\n",
       "18    51.181311\n",
       "19    50.041311\n",
       "20    48.848197\n",
       "21    47.851803\n",
       "22    47.064918\n",
       "23    46.397049\n",
       "Name: temp_f, dtype: float64"
      ]
     },
     "execution_count": 243,
     "metadata": {},
     "output_type": "execute_result"
    }
   ],
   "source": [
    "hourly_avg"
   ]
  },
  {
   "cell_type": "markdown",
   "id": "267eff2c",
   "metadata": {},
   "source": [
    "16. Write the code to rename the hourly_avg index to ‘Hour’"
   ]
  },
  {
   "cell_type": "code",
   "execution_count": 244,
   "id": "03ab2587",
   "metadata": {},
   "outputs": [
    {
     "data": {
      "text/plain": [
       "Int64Index([ 0,  1,  2,  3,  4,  5,  6,  7,  8,  9, 10, 11, 12, 13, 14, 15, 16,\n",
       "            17, 18, 19, 20, 21, 22, 23],\n",
       "           dtype='int64', name='Hour')"
      ]
     },
     "execution_count": 244,
     "metadata": {},
     "output_type": "execute_result"
    }
   ],
   "source": [
    "hourly_avg.index.rename('Hour')"
   ]
  },
  {
   "cell_type": "markdown",
   "id": "48b42f6f",
   "metadata": {},
   "source": [
    "17. Write the code to change each entry in the hourly_avg index so it shows the name of the standard time (not military time). You must do this by creating a function that accepts the time (string) and returns the time in the format (12:00AM, 1:00AM, 2:00AM, . . . 10:00PM, 11:00PM) which you call from a map/lambda expression. A dictionary is useful here."
   ]
  },
  {
   "cell_type": "code",
   "execution_count": 245,
   "id": "81677806",
   "metadata": {},
   "outputs": [],
   "source": [
    "def set_index(n):\n",
    "    hour_names = {\n",
    "        0:\"12:00AM\", 1:\"1:00AM\", 2:\"2:00AM\", 3:\"3:00AM\", 4:\"4:00AM\", 5:\"5:00AM\",\n",
    "        6:\"6:00AM\", 7:\"7:00AM\", 8:\"8:00AM\", 9:\"9:00AM\", 10:\"10:00AM\", 11:\"11:00AM\",\n",
    "        12:\"12:00PM\", 13:\"1:00PM\", 14:\"2:00PM\", 15:\"3:00PM\", 16:\"4:00PM\", 17:\"5:00PM\",\n",
    "        18:\"6:00PM\", 19:\"7:00PM\", 20:\"8:00PM\", 21:\"9:00PM\", 22:\"10:00PM\", 23:\"11:00PM\"\n",
    "    }\n",
    "    return hour_names[n]"
   ]
  },
  {
   "cell_type": "code",
   "execution_count": 246,
   "id": "a4c9bb43",
   "metadata": {},
   "outputs": [],
   "source": [
    "hourly_avg.index = list(map(lambda x: set_index(x), hourly_avg.index))"
   ]
  },
  {
   "cell_type": "code",
   "execution_count": 247,
   "id": "38db9d6b",
   "metadata": {},
   "outputs": [
    {
     "data": {
      "text/plain": [
       "Index(['12:00AM', '1:00AM', '2:00AM', '3:00AM', '4:00AM', '5:00AM', '6:00AM',\n",
       "       '7:00AM', '8:00AM', '9:00AM', '10:00AM', '11:00AM', '12:00PM', '1:00PM',\n",
       "       '2:00PM', '3:00PM', '4:00PM', '5:00PM', '6:00PM', '7:00PM', '8:00PM',\n",
       "       '9:00PM', '10:00PM', '11:00PM'],\n",
       "      dtype='object')"
      ]
     },
     "execution_count": 247,
     "metadata": {},
     "output_type": "execute_result"
    }
   ],
   "source": [
    "hourly_avg.index"
   ]
  },
  {
   "cell_type": "markdown",
   "id": "4afa2b53",
   "metadata": {},
   "source": [
    "18. Write the code to get a count of the different weather designations in the weather column."
   ]
  },
  {
   "cell_type": "code",
   "execution_count": 248,
   "id": "40e2c16b",
   "metadata": {},
   "outputs": [
    {
     "data": {
      "text/plain": [
       "weather\n",
       "Clear                                      1326\n",
       "Cloudy                                     1728\n",
       "Drizzle                                      41\n",
       "Drizzle,Fog                                  80\n",
       "Drizzle,Ice Pellets,Fog                       1\n",
       "Drizzle,Snow                                  2\n",
       "Drizzle,Snow,Fog                             15\n",
       "Fog                                         150\n",
       "Freezing Drizzle                              7\n",
       "Freezing Drizzle,Fog                          6\n",
       "Freezing Drizzle,Haze                         3\n",
       "Freezing Drizzle,Snow                        11\n",
       "Freezing Fog                                  4\n",
       "Freezing Rain                                14\n",
       "Freezing Rain,Fog                             4\n",
       "Freezing Rain,Haze                            2\n",
       "Freezing Rain,Ice Pellets,Fog                 1\n",
       "Freezing Rain,Snow Grains                     1\n",
       "Haze                                         16\n",
       "Mainly Clear                               2106\n",
       "Moderate Rain,Fog                             1\n",
       "Moderate Snow                                 4\n",
       "Moderate Snow,Blowing Snow                    2\n",
       "Mostly Cloudy                              2069\n",
       "Rain                                        306\n",
       "Rain Showers                                188\n",
       "Rain Showers,Fog                              1\n",
       "Rain Showers,Snow Showers                     2\n",
       "Rain,Fog                                    116\n",
       "Rain,Haze                                     3\n",
       "Rain,Ice Pellets                              1\n",
       "Rain,Snow                                    18\n",
       "Rain,Snow Grains                              1\n",
       "Rain,Snow,Fog                                 1\n",
       "Rain,Snow,Ice Pellets                         4\n",
       "Snow                                        390\n",
       "Snow Pellets                                  1\n",
       "Snow Showers                                 60\n",
       "Snow Showers,Fog                              4\n",
       "Snow,Blowing Snow                            19\n",
       "Snow,Fog                                     37\n",
       "Snow,Haze                                     5\n",
       "Snow,Ice Pellets                              6\n",
       "Thunderstorms                                 2\n",
       "Thunderstorms,Heavy Rain Showers              1\n",
       "Thunderstorms,Moderate Rain Showers,Fog       1\n",
       "Thunderstorms,Rain                            3\n",
       "Thunderstorms,Rain Showers                   16\n",
       "Thunderstorms,Rain Showers,Fog                3\n",
       "Thunderstorms,Rain,Fog                        1\n",
       "Name: weather, dtype: int64"
      ]
     },
     "execution_count": 248,
     "metadata": {},
     "output_type": "execute_result"
    }
   ],
   "source": [
    "df.weather.groupby(df['weather']).count()"
   ]
  },
  {
   "cell_type": "markdown",
   "id": "7790f0f5",
   "metadata": {},
   "source": [
    "19. You will notice that when you look at the output from the previous code some of the rows in the weather column have multiple weather conditions (e.g. Rain, Snow, Fog)  Write the code to get a list that contains each unique value in the weather column. For example rain, snow and fog should only appear in the list once even though they are several rows.  A set is useful here."
   ]
  },
  {
   "cell_type": "code",
   "execution_count": 249,
   "id": "70afc212",
   "metadata": {},
   "outputs": [],
   "source": [
    "weather_list = df['weather'].str.split(',').explode().unique().tolist()"
   ]
  },
  {
   "cell_type": "code",
   "execution_count": 250,
   "id": "bb36392e",
   "metadata": {},
   "outputs": [
    {
     "data": {
      "text/plain": [
       "['Fog',\n",
       " 'Freezing Drizzle',\n",
       " 'Mostly Cloudy',\n",
       " 'Cloudy',\n",
       " 'Rain',\n",
       " 'Rain Showers',\n",
       " 'Mainly Clear',\n",
       " 'Snow Showers',\n",
       " 'Snow',\n",
       " 'Clear',\n",
       " 'Freezing Rain',\n",
       " 'Moderate Snow',\n",
       " 'Snow Grains',\n",
       " 'Blowing Snow',\n",
       " 'Freezing Fog',\n",
       " 'Haze',\n",
       " 'Drizzle',\n",
       " 'Ice Pellets',\n",
       " 'Thunderstorms',\n",
       " 'Heavy Rain Showers',\n",
       " 'Moderate Rain Showers',\n",
       " 'Snow Pellets',\n",
       " 'Moderate Rain']"
      ]
     },
     "execution_count": 250,
     "metadata": {},
     "output_type": "execute_result"
    }
   ],
   "source": [
    "weather_list"
   ]
  },
  {
   "cell_type": "markdown",
   "id": "5b2c38a9",
   "metadata": {},
   "source": [
    "20. Sort the output of your previous code alphabetically ascending."
   ]
  },
  {
   "cell_type": "code",
   "execution_count": 251,
   "id": "83b86094",
   "metadata": {},
   "outputs": [],
   "source": [
    "weather_list.sort()"
   ]
  },
  {
   "cell_type": "code",
   "execution_count": 252,
   "id": "0c6a3535",
   "metadata": {},
   "outputs": [
    {
     "data": {
      "text/plain": [
       "['Blowing Snow',\n",
       " 'Clear',\n",
       " 'Cloudy',\n",
       " 'Drizzle',\n",
       " 'Fog',\n",
       " 'Freezing Drizzle',\n",
       " 'Freezing Fog',\n",
       " 'Freezing Rain',\n",
       " 'Haze',\n",
       " 'Heavy Rain Showers',\n",
       " 'Ice Pellets',\n",
       " 'Mainly Clear',\n",
       " 'Moderate Rain',\n",
       " 'Moderate Rain Showers',\n",
       " 'Moderate Snow',\n",
       " 'Mostly Cloudy',\n",
       " 'Rain',\n",
       " 'Rain Showers',\n",
       " 'Snow',\n",
       " 'Snow Grains',\n",
       " 'Snow Pellets',\n",
       " 'Snow Showers',\n",
       " 'Thunderstorms']"
      ]
     },
     "execution_count": 252,
     "metadata": {},
     "output_type": "execute_result"
    }
   ],
   "source": [
    "weather_list"
   ]
  },
  {
   "cell_type": "markdown",
   "id": "cfa4c09a",
   "metadata": {},
   "source": [
    "21. Now that you are finished working with this dataset, you want to rename the columns with their original names. Don’t forget, you added a column for Fahrenheit, so that will need to be included in the new column names."
   ]
  },
  {
   "cell_type": "code",
   "execution_count": 253,
   "id": "cbcccb1c",
   "metadata": {},
   "outputs": [],
   "source": [
    "df.columns=[['Date/Time', 'Temp (C)', 'Temp (F)','Dew Point Temp (C)', 'Rel Hum (%)',\n",
    "       'Wind Spd (km/h)', 'Visibility (km)', 'Stn Press (kPa)', 'Weather']]"
   ]
  },
  {
   "cell_type": "code",
   "execution_count": 254,
   "id": "59e3bdd9",
   "metadata": {},
   "outputs": [
    {
     "data": {
      "text/html": [
       "<div>\n",
       "<style scoped>\n",
       "    .dataframe tbody tr th:only-of-type {\n",
       "        vertical-align: middle;\n",
       "    }\n",
       "\n",
       "    .dataframe tbody tr th {\n",
       "        vertical-align: top;\n",
       "    }\n",
       "\n",
       "    .dataframe thead tr th {\n",
       "        text-align: left;\n",
       "    }\n",
       "</style>\n",
       "<table border=\"1\" class=\"dataframe\">\n",
       "  <thead>\n",
       "    <tr>\n",
       "      <th></th>\n",
       "      <th>Date/Time</th>\n",
       "      <th>Temp (C)</th>\n",
       "      <th>Temp (F)</th>\n",
       "      <th>Dew Point Temp (C)</th>\n",
       "      <th>Rel Hum (%)</th>\n",
       "      <th>Wind Spd (km/h)</th>\n",
       "      <th>Visibility (km)</th>\n",
       "      <th>Stn Press (kPa)</th>\n",
       "      <th>Weather</th>\n",
       "    </tr>\n",
       "  </thead>\n",
       "  <tbody>\n",
       "    <tr>\n",
       "      <th>0</th>\n",
       "      <td>2012-01-01 00:00:00</td>\n",
       "      <td>-1.8</td>\n",
       "      <td>28.76</td>\n",
       "      <td>-3.9</td>\n",
       "      <td>86</td>\n",
       "      <td>4</td>\n",
       "      <td>8.0</td>\n",
       "      <td>101.24</td>\n",
       "      <td>Fog</td>\n",
       "    </tr>\n",
       "    <tr>\n",
       "      <th>1</th>\n",
       "      <td>2012-01-01 01:00:00</td>\n",
       "      <td>-1.8</td>\n",
       "      <td>28.76</td>\n",
       "      <td>-3.7</td>\n",
       "      <td>87</td>\n",
       "      <td>4</td>\n",
       "      <td>8.0</td>\n",
       "      <td>101.24</td>\n",
       "      <td>Fog</td>\n",
       "    </tr>\n",
       "    <tr>\n",
       "      <th>2</th>\n",
       "      <td>2012-01-01 02:00:00</td>\n",
       "      <td>-1.8</td>\n",
       "      <td>28.76</td>\n",
       "      <td>-3.4</td>\n",
       "      <td>89</td>\n",
       "      <td>7</td>\n",
       "      <td>4.0</td>\n",
       "      <td>101.26</td>\n",
       "      <td>Freezing Drizzle,Fog</td>\n",
       "    </tr>\n",
       "    <tr>\n",
       "      <th>3</th>\n",
       "      <td>2012-01-01 03:00:00</td>\n",
       "      <td>-1.5</td>\n",
       "      <td>29.30</td>\n",
       "      <td>-3.2</td>\n",
       "      <td>88</td>\n",
       "      <td>6</td>\n",
       "      <td>4.0</td>\n",
       "      <td>101.27</td>\n",
       "      <td>Freezing Drizzle,Fog</td>\n",
       "    </tr>\n",
       "    <tr>\n",
       "      <th>4</th>\n",
       "      <td>2012-01-01 04:00:00</td>\n",
       "      <td>-1.5</td>\n",
       "      <td>29.30</td>\n",
       "      <td>-3.3</td>\n",
       "      <td>88</td>\n",
       "      <td>7</td>\n",
       "      <td>4.8</td>\n",
       "      <td>101.23</td>\n",
       "      <td>Fog</td>\n",
       "    </tr>\n",
       "  </tbody>\n",
       "</table>\n",
       "</div>"
      ],
      "text/plain": [
       "            Date/Time Temp (C) Temp (F) Dew Point Temp (C) Rel Hum (%)  \\\n",
       "0 2012-01-01 00:00:00     -1.8    28.76               -3.9          86   \n",
       "1 2012-01-01 01:00:00     -1.8    28.76               -3.7          87   \n",
       "2 2012-01-01 02:00:00     -1.8    28.76               -3.4          89   \n",
       "3 2012-01-01 03:00:00     -1.5    29.30               -3.2          88   \n",
       "4 2012-01-01 04:00:00     -1.5    29.30               -3.3          88   \n",
       "\n",
       "  Wind Spd (km/h) Visibility (km) Stn Press (kPa)               Weather  \n",
       "0               4             8.0          101.24                   Fog  \n",
       "1               4             8.0          101.24                   Fog  \n",
       "2               7             4.0          101.26  Freezing Drizzle,Fog  \n",
       "3               6             4.0          101.27  Freezing Drizzle,Fog  \n",
       "4               7             4.8          101.23                   Fog  "
      ]
     },
     "execution_count": 254,
     "metadata": {},
     "output_type": "execute_result"
    }
   ],
   "source": [
    "df.head()"
   ]
  },
  {
   "cell_type": "markdown",
   "id": "bb8a9456",
   "metadata": {},
   "source": [
    "22. Save your dataset to ‘weather_2012_new.csv’) – ensure your file does not contain the index column of the dataset."
   ]
  },
  {
   "cell_type": "code",
   "execution_count": 255,
   "id": "17d5f0bb",
   "metadata": {},
   "outputs": [],
   "source": [
    "df.to_csv('weather_2012_new.csv', index=False)"
   ]
  },
  {
   "cell_type": "markdown",
   "id": "6f146571",
   "metadata": {},
   "source": [
    "23. Save the monthly_avg and hourly_avg datasets so you can use them in the future without having to completely re-run this notebook."
   ]
  },
  {
   "cell_type": "code",
   "execution_count": 256,
   "id": "1e9aab9d",
   "metadata": {},
   "outputs": [],
   "source": [
    "monthly_avg.to_csv('monthly_avg.csv', index=False)\n",
    "hourly_avg.to_csv('hourly_avg.csv', index=True)"
   ]
  }
 ],
 "metadata": {
  "kernelspec": {
   "display_name": "Python 3 (ipykernel)",
   "language": "python",
   "name": "python3"
  },
  "language_info": {
   "codemirror_mode": {
    "name": "ipython",
    "version": 3
   },
   "file_extension": ".py",
   "mimetype": "text/x-python",
   "name": "python",
   "nbconvert_exporter": "python",
   "pygments_lexer": "ipython3",
   "version": "3.8.8"
  }
 },
 "nbformat": 4,
 "nbformat_minor": 5
}
